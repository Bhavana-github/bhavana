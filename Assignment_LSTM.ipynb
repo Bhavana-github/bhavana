{
  "nbformat": 4,
  "nbformat_minor": 0,
  "metadata": {
    "colab": {
      "name": "Assignment_LSTM.ipynb",
      "version": "0.3.2",
      "provenance": [],
      "collapsed_sections": []
    },
    "kernelspec": {
      "name": "python3",
      "display_name": "Python 3"
    },
    "accelerator": "GPU"
  },
  "cells": [
    {
      "cell_type": "code",
      "metadata": {
        "id": "_rfsHK5348Kx",
        "colab_type": "code",
        "outputId": "089a82d9-8ca4-43ac-f34d-5fd332de45c7",
        "colab": {
          "base_uri": "https://localhost:8080/",
          "height": 51
        }
      },
      "source": [
        "!pip install -U -q PyDrive"
      ],
      "execution_count": 2,
      "outputs": [
        {
          "output_type": "stream",
          "text": [
            "\u001b[?25l\r\u001b[K     |▎                               | 10kB 20.3MB/s eta 0:00:01\r\u001b[K     |▋                               | 20kB 25.7MB/s eta 0:00:01\r\u001b[K     |█                               | 30kB 29.7MB/s eta 0:00:01\r\u001b[K     |█▎                              | 40kB 33.4MB/s eta 0:00:01\r\u001b[K     |█▋                              | 51kB 36.6MB/s eta 0:00:01\r\u001b[K     |██                              | 61kB 40.2MB/s eta 0:00:01\r\u001b[K     |██▎                             | 71kB 34.7MB/s eta 0:00:01\r\u001b[K     |██▋                             | 81kB 33.8MB/s eta 0:00:01\r\u001b[K     |███                             | 92kB 35.4MB/s eta 0:00:01\r\u001b[K     |███▎                            | 102kB 31.2MB/s eta 0:00:01\r\u001b[K     |███▋                            | 112kB 31.2MB/s eta 0:00:01\r\u001b[K     |████                            | 122kB 31.2MB/s eta 0:00:01\r\u001b[K     |████▎                           | 133kB 31.2MB/s eta 0:00:01\r\u001b[K     |████▋                           | 143kB 31.2MB/s eta 0:00:01\r\u001b[K     |█████                           | 153kB 31.2MB/s eta 0:00:01\r\u001b[K     |█████▎                          | 163kB 31.2MB/s eta 0:00:01\r\u001b[K     |█████▋                          | 174kB 31.2MB/s eta 0:00:01\r\u001b[K     |██████                          | 184kB 31.2MB/s eta 0:00:01\r\u001b[K     |██████▎                         | 194kB 31.2MB/s eta 0:00:01\r\u001b[K     |██████▋                         | 204kB 31.2MB/s eta 0:00:01\r\u001b[K     |███████                         | 215kB 31.2MB/s eta 0:00:01\r\u001b[K     |███████▎                        | 225kB 31.2MB/s eta 0:00:01\r\u001b[K     |███████▋                        | 235kB 31.2MB/s eta 0:00:01\r\u001b[K     |████████                        | 245kB 31.2MB/s eta 0:00:01\r\u001b[K     |████████▎                       | 256kB 31.2MB/s eta 0:00:01\r\u001b[K     |████████▋                       | 266kB 31.2MB/s eta 0:00:01\r\u001b[K     |█████████                       | 276kB 31.2MB/s eta 0:00:01\r\u001b[K     |█████████▎                      | 286kB 31.2MB/s eta 0:00:01\r\u001b[K     |█████████▋                      | 296kB 31.2MB/s eta 0:00:01\r\u001b[K     |██████████                      | 307kB 31.2MB/s eta 0:00:01\r\u001b[K     |██████████▎                     | 317kB 31.2MB/s eta 0:00:01\r\u001b[K     |██████████▋                     | 327kB 31.2MB/s eta 0:00:01\r\u001b[K     |███████████                     | 337kB 31.2MB/s eta 0:00:01\r\u001b[K     |███████████▎                    | 348kB 31.2MB/s eta 0:00:01\r\u001b[K     |███████████▋                    | 358kB 31.2MB/s eta 0:00:01\r\u001b[K     |████████████                    | 368kB 31.2MB/s eta 0:00:01\r\u001b[K     |████████████▎                   | 378kB 31.2MB/s eta 0:00:01\r\u001b[K     |████████████▋                   | 389kB 31.2MB/s eta 0:00:01\r\u001b[K     |█████████████                   | 399kB 31.2MB/s eta 0:00:01\r\u001b[K     |█████████████▎                  | 409kB 31.2MB/s eta 0:00:01\r\u001b[K     |█████████████▋                  | 419kB 31.2MB/s eta 0:00:01\r\u001b[K     |██████████████                  | 430kB 31.2MB/s eta 0:00:01\r\u001b[K     |██████████████▎                 | 440kB 31.2MB/s eta 0:00:01\r\u001b[K     |██████████████▋                 | 450kB 31.2MB/s eta 0:00:01\r\u001b[K     |███████████████                 | 460kB 31.2MB/s eta 0:00:01\r\u001b[K     |███████████████▎                | 471kB 31.2MB/s eta 0:00:01\r\u001b[K     |███████████████▋                | 481kB 31.2MB/s eta 0:00:01\r\u001b[K     |████████████████                | 491kB 31.2MB/s eta 0:00:01\r\u001b[K     |████████████████▎               | 501kB 31.2MB/s eta 0:00:01\r\u001b[K     |████████████████▋               | 512kB 31.2MB/s eta 0:00:01\r\u001b[K     |█████████████████               | 522kB 31.2MB/s eta 0:00:01\r\u001b[K     |█████████████████▎              | 532kB 31.2MB/s eta 0:00:01\r\u001b[K     |█████████████████▋              | 542kB 31.2MB/s eta 0:00:01\r\u001b[K     |██████████████████              | 552kB 31.2MB/s eta 0:00:01\r\u001b[K     |██████████████████▎             | 563kB 31.2MB/s eta 0:00:01\r\u001b[K     |██████████████████▋             | 573kB 31.2MB/s eta 0:00:01\r\u001b[K     |███████████████████             | 583kB 31.2MB/s eta 0:00:01\r\u001b[K     |███████████████████▎            | 593kB 31.2MB/s eta 0:00:01\r\u001b[K     |███████████████████▋            | 604kB 31.2MB/s eta 0:00:01\r\u001b[K     |████████████████████            | 614kB 31.2MB/s eta 0:00:01\r\u001b[K     |████████████████████▎           | 624kB 31.2MB/s eta 0:00:01\r\u001b[K     |████████████████████▋           | 634kB 31.2MB/s eta 0:00:01\r\u001b[K     |█████████████████████           | 645kB 31.2MB/s eta 0:00:01\r\u001b[K     |█████████████████████▎          | 655kB 31.2MB/s eta 0:00:01\r\u001b[K     |█████████████████████▋          | 665kB 31.2MB/s eta 0:00:01\r\u001b[K     |██████████████████████          | 675kB 31.2MB/s eta 0:00:01\r\u001b[K     |██████████████████████▎         | 686kB 31.2MB/s eta 0:00:01\r\u001b[K     |██████████████████████▋         | 696kB 31.2MB/s eta 0:00:01\r\u001b[K     |███████████████████████         | 706kB 31.2MB/s eta 0:00:01\r\u001b[K     |███████████████████████▎        | 716kB 31.2MB/s eta 0:00:01\r\u001b[K     |███████████████████████▋        | 727kB 31.2MB/s eta 0:00:01\r\u001b[K     |████████████████████████        | 737kB 31.2MB/s eta 0:00:01\r\u001b[K     |████████████████████████▎       | 747kB 31.2MB/s eta 0:00:01\r\u001b[K     |████████████████████████▋       | 757kB 31.2MB/s eta 0:00:01\r\u001b[K     |████████████████████████▉       | 768kB 31.2MB/s eta 0:00:01\r\u001b[K     |█████████████████████████▏      | 778kB 31.2MB/s eta 0:00:01\r\u001b[K     |█████████████████████████▌      | 788kB 31.2MB/s eta 0:00:01\r\u001b[K     |█████████████████████████▉      | 798kB 31.2MB/s eta 0:00:01\r\u001b[K     |██████████████████████████▏     | 808kB 31.2MB/s eta 0:00:01\r\u001b[K     |██████████████████████████▌     | 819kB 31.2MB/s eta 0:00:01\r\u001b[K     |██████████████████████████▉     | 829kB 31.2MB/s eta 0:00:01\r\u001b[K     |███████████████████████████▏    | 839kB 31.2MB/s eta 0:00:01\r\u001b[K     |███████████████████████████▌    | 849kB 31.2MB/s eta 0:00:01\r\u001b[K     |███████████████████████████▉    | 860kB 31.2MB/s eta 0:00:01\r\u001b[K     |████████████████████████████▏   | 870kB 31.2MB/s eta 0:00:01\r\u001b[K     |████████████████████████████▌   | 880kB 31.2MB/s eta 0:00:01\r\u001b[K     |████████████████████████████▉   | 890kB 31.2MB/s eta 0:00:01\r\u001b[K     |█████████████████████████████▏  | 901kB 31.2MB/s eta 0:00:01\r\u001b[K     |█████████████████████████████▌  | 911kB 31.2MB/s eta 0:00:01\r\u001b[K     |█████████████████████████████▉  | 921kB 31.2MB/s eta 0:00:01\r\u001b[K     |██████████████████████████████▏ | 931kB 31.2MB/s eta 0:00:01\r\u001b[K     |██████████████████████████████▌ | 942kB 31.2MB/s eta 0:00:01\r\u001b[K     |██████████████████████████████▉ | 952kB 31.2MB/s eta 0:00:01\r\u001b[K     |███████████████████████████████▏| 962kB 31.2MB/s eta 0:00:01\r\u001b[K     |███████████████████████████████▌| 972kB 31.2MB/s eta 0:00:01\r\u001b[K     |███████████████████████████████▉| 983kB 31.2MB/s eta 0:00:01\r\u001b[K     |████████████████████████████████| 993kB 31.2MB/s \n",
            "\u001b[?25h  Building wheel for PyDrive (setup.py) ... \u001b[?25l\u001b[?25hdone\n"
          ],
          "name": "stdout"
        }
      ]
    },
    {
      "cell_type": "code",
      "metadata": {
        "id": "GGvo24o75DfN",
        "colab_type": "code",
        "colab": {}
      },
      "source": [
        "from pydrive.auth import GoogleAuth\n",
        "from pydrive.drive import GoogleDrive\n",
        "from google.colab import auth\n",
        "from oauth2client.client import GoogleCredentials"
      ],
      "execution_count": 0,
      "outputs": []
    },
    {
      "cell_type": "code",
      "metadata": {
        "id": "ttbYh6kC5RzV",
        "colab_type": "code",
        "colab": {}
      },
      "source": [
        "auth.authenticate_user()\n",
        "gauth = GoogleAuth()\n",
        "gauth.credentials = GoogleCredentials.get_application_default()\n",
        "drive = GoogleDrive(gauth)"
      ],
      "execution_count": 0,
      "outputs": []
    },
    {
      "cell_type": "code",
      "metadata": {
        "id": "ASypFFuo64zP",
        "colab_type": "code",
        "colab": {}
      },
      "source": [
        "link = \"https://drive.google.com/open?id=1VwEFJH367Y0WCXpX0e1RKAgkKkld9qnB\""
      ],
      "execution_count": 0,
      "outputs": []
    },
    {
      "cell_type": "code",
      "metadata": {
        "id": "sHkwjw3U5oH6",
        "colab_type": "code",
        "outputId": "cb573dbc-ad03-4794-a682-817488d63910",
        "colab": {
          "base_uri": "https://localhost:8080/",
          "height": 34
        }
      },
      "source": [
        "fluff, id = link.split('=')\n",
        "print (id) # Verify that you have everything after '='"
      ],
      "execution_count": 7,
      "outputs": [
        {
          "output_type": "stream",
          "text": [
            "1VwEFJH367Y0WCXpX0e1RKAgkKkld9qnB\n"
          ],
          "name": "stdout"
        }
      ]
    },
    {
      "cell_type": "code",
      "metadata": {
        "id": "0gLekrMZ7EB4",
        "colab_type": "code",
        "colab": {}
      },
      "source": [
        "import pandas as pd\n",
        "downloaded = drive.CreateFile({'id':id}) \n",
        "downloaded.GetContentFile('preprocessed.csv') \n",
        "preprocessed_amazon_data = pd.read_csv('preprocessed.csv')"
      ],
      "execution_count": 0,
      "outputs": []
    },
    {
      "cell_type": "code",
      "metadata": {
        "id": "ycIFtaet8MoA",
        "colab_type": "code",
        "colab": {}
      },
      "source": [
        "# Credits: https://machinelearningmastery.com/sequence-classification-lstm-recurrent-neural-networks-python-keras/\n",
        "# LSTM for sequence classification in the IMDB dataset\n",
        "import numpy\n",
        "from keras.datasets import imdb\n",
        "from keras.models import Sequential\n",
        "from keras.layers import Dense\n",
        "from keras.layers import LSTM\n",
        "from keras.layers.embeddings import Embedding\n",
        "from keras.preprocessing import sequence\n",
        "# fix random seed for reproducibility\n",
        "numpy.random.seed(7)\n"
      ],
      "execution_count": 0,
      "outputs": []
    },
    {
      "cell_type": "code",
      "metadata": {
        "id": "YJupytO47yM_",
        "colab_type": "code",
        "colab": {}
      },
      "source": [
        "preprocessed_amazon_data = preprocessed_amazon_data.dropna()"
      ],
      "execution_count": 0,
      "outputs": []
    },
    {
      "cell_type": "code",
      "metadata": {
        "id": "gPpzXQl875mv",
        "colab_type": "code",
        "colab": {}
      },
      "source": [
        "from sklearn.model_selection import train_test_split\n",
        "X_train, X_test, Y_train, Y_test = train_test_split(preprocessed_amazon_data['preprocessed_reviews'].values,preprocessed_amazon_data['Values'].values,test_size=0.30,shuffle=False)"
      ],
      "execution_count": 0,
      "outputs": []
    },
    {
      "cell_type": "code",
      "metadata": {
        "id": "_dFcZo8i9CxY",
        "colab_type": "code",
        "colab": {}
      },
      "source": [
        "from keras.preprocessing.text import Tokenizer\n",
        "tokenizer = Tokenizer(num_words= 50000)\n",
        "tokenizer.fit_on_texts(X_train)"
      ],
      "execution_count": 0,
      "outputs": []
    },
    {
      "cell_type": "code",
      "metadata": {
        "id": "llNBY6cQ9M-J",
        "colab_type": "code",
        "colab": {}
      },
      "source": [
        "X_train_tok = tokenizer.texts_to_sequences(X_train)\n",
        "X_test_tok = tokenizer.texts_to_sequences(X_test)"
      ],
      "execution_count": 0,
      "outputs": []
    },
    {
      "cell_type": "code",
      "metadata": {
        "id": "-p4j_ToD9XCN",
        "colab_type": "code",
        "colab": {}
      },
      "source": [
        "max_review_length = 600\n",
        "X_train_pad = sequence.pad_sequences(X_train_tok, maxlen=max_review_length)\n",
        "X_test_pad = sequence.pad_sequences(X_test_tok, maxlen=max_review_length)"
      ],
      "execution_count": 0,
      "outputs": []
    },
    {
      "cell_type": "code",
      "metadata": {
        "id": "s2ArvW8v9f9P",
        "colab_type": "code",
        "outputId": "7a85c55d-dfbc-4887-8661-66947d78377a",
        "colab": {
          "base_uri": "https://localhost:8080/",
          "height": 255
        }
      },
      "source": [
        "top_words = 50000\n",
        "# create the model\n",
        "embedding_vecor_length = 32\n",
        "model = Sequential()\n",
        "model.add(Embedding(top_words+1, embedding_vecor_length, input_length=max_review_length))\n",
        "model.add(LSTM(100))\n",
        "model.add(Dense(1, activation='sigmoid'))\n",
        "model.compile(loss='binary_crossentropy', optimizer='adam', metrics=['accuracy'])\n",
        "print(model.summary())\n",
        "#Refer: https://datascience.stackexchange.com/questions/10615/number-of-parameters-in-an-lstm-model"
      ],
      "execution_count": 0,
      "outputs": [
        {
          "output_type": "stream",
          "text": [
            "_________________________________________________________________\n",
            "Layer (type)                 Output Shape              Param #   \n",
            "=================================================================\n",
            "embedding_3 (Embedding)      (None, 600, 32)           1600032   \n",
            "_________________________________________________________________\n",
            "lstm_3 (LSTM)                (None, 100)               53200     \n",
            "_________________________________________________________________\n",
            "dense_3 (Dense)              (None, 1)                 101       \n",
            "=================================================================\n",
            "Total params: 1,653,333\n",
            "Trainable params: 1,653,333\n",
            "Non-trainable params: 0\n",
            "_________________________________________________________________\n",
            "None\n"
          ],
          "name": "stdout"
        }
      ]
    },
    {
      "cell_type": "code",
      "metadata": {
        "id": "y2mC0Zqo9nsM",
        "colab_type": "code",
        "outputId": "09a94b3a-0e59-49e6-ce35-8898428e53d4",
        "colab": {
          "base_uri": "https://localhost:8080/",
          "height": 479
        }
      },
      "source": [
        "history = model.fit(X_train_pad, Y_train, nb_epoch=10, batch_size=64,validation_data=(X_test_pad,Y_test))\n",
        "# Final evaluation of the model on test data\n",
        "scores = model.evaluate(X_test_pad, Y_test, verbose=0)\n",
        "print(\"Accuracy: %.2f%%\" % (scores[1]*100))"
      ],
      "execution_count": 0,
      "outputs": [
        {
          "output_type": "stream",
          "text": [
            "/usr/local/lib/python3.6/dist-packages/ipykernel_launcher.py:1: UserWarning: The `nb_epoch` argument in `fit` has been renamed `epochs`.\n",
            "  \"\"\"Entry point for launching an IPython kernel.\n",
            "W0727 05:55:30.350995 139930650638208 deprecation_wrapper.py:119] From /usr/local/lib/python3.6/dist-packages/keras/backend/tensorflow_backend.py:986: The name tf.assign_add is deprecated. Please use tf.compat.v1.assign_add instead.\n",
            "\n"
          ],
          "name": "stderr"
        },
        {
          "output_type": "stream",
          "text": [
            "Train on 73478 samples, validate on 31491 samples\n",
            "Epoch 1/10\n",
            "73478/73478 [==============================] - 1148s 16ms/step - loss: 0.2631 - acc: 0.8923 - val_loss: 0.3463 - val_acc: 0.8658\n",
            "Epoch 2/10\n",
            "73478/73478 [==============================] - 1144s 16ms/step - loss: 0.1470 - acc: 0.9457 - val_loss: 0.3056 - val_acc: 0.8975\n",
            "Epoch 3/10\n",
            "73478/73478 [==============================] - 1135s 15ms/step - loss: 0.1002 - acc: 0.9640 - val_loss: 0.2259 - val_acc: 0.9307\n",
            "Epoch 4/10\n",
            "73478/73478 [==============================] - 1136s 15ms/step - loss: 0.0713 - acc: 0.9757 - val_loss: 0.2625 - val_acc: 0.9358\n",
            "Epoch 5/10\n",
            "73478/73478 [==============================] - 1143s 16ms/step - loss: 0.0516 - acc: 0.9829 - val_loss: 0.2209 - val_acc: 0.9442\n",
            "Epoch 6/10\n",
            "73478/73478 [==============================] - 1138s 15ms/step - loss: 0.0380 - acc: 0.9872 - val_loss: 0.2358 - val_acc: 0.9488\n",
            "Epoch 7/10\n",
            "73478/73478 [==============================] - 1137s 15ms/step - loss: 0.0255 - acc: 0.9918 - val_loss: 0.1910 - val_acc: 0.9597\n",
            "Epoch 8/10\n",
            "73478/73478 [==============================] - 1119s 15ms/step - loss: 0.0193 - acc: 0.9940 - val_loss: 0.1936 - val_acc: 0.9622\n",
            "Epoch 9/10\n",
            "73478/73478 [==============================] - 1127s 15ms/step - loss: 0.0129 - acc: 0.9963 - val_loss: 0.3617 - val_acc: 0.9392\n",
            "Epoch 10/10\n",
            "73478/73478 [==============================] - 1128s 15ms/step - loss: 0.0113 - acc: 0.9964 - val_loss: 0.3050 - val_acc: 0.9536\n",
            "Accuracy: 95.36%\n"
          ],
          "name": "stdout"
        }
      ]
    },
    {
      "cell_type": "code",
      "metadata": {
        "id": "j5kLgV-QtoAS",
        "colab_type": "code",
        "outputId": "9f89aadb-b427-452c-be3f-edaf146bf1f4",
        "colab": {
          "base_uri": "https://localhost:8080/",
          "height": 283
        }
      },
      "source": [
        "# Get training and test loss histories\n",
        "training_loss = history.history['loss']\n",
        "test_loss = history.history['val_loss']\n",
        "\n",
        "# Create count of the number of epochs\n",
        "epoch_count = range(1, len(training_loss) + 1)\n",
        "\n",
        "# Visualize loss history\n",
        "plt.plot(epoch_count, training_loss, 'b-')\n",
        "plt.plot(epoch_count, test_loss, 'r--')\n",
        "plt.legend(['Training Loss', 'Test Loss'])\n",
        "plt.xlabel('Epoch')\n",
        "plt.ylabel('Loss')\n",
        "plt.show();"
      ],
      "execution_count": 0,
      "outputs": [
        {
          "output_type": "display_data",
          "data": {
            "image/png": "[encoded data removed]",
            "text/plain": [
              "<Figure size 432x288 with 1 Axes>"
            ]
          },
          "metadata": {
            "tags": []
          }
        }
      ]
    },
    {
      "cell_type": "markdown",
      "metadata": {
        "id": "gQnKCbE1KtaI",
        "colab_type": "text"
      },
      "source": [
        "disb:  In the given model we use embeeding layer and  layer with 100 LSTM, dense layer with sigmoid activation "
      ]
    },
    {
      "cell_type": "markdown",
      "metadata": {
        "id": "x1WUUEw-JHHK",
        "colab_type": "text"
      },
      "source": [
        "obs: model with LSTM 100 give the Accuray 96.23%"
      ]
    },
    {
      "cell_type": "code",
      "metadata": {
        "id": "OEXdmubA91z2",
        "colab_type": "code",
        "outputId": "a18f8b7d-996d-4b4b-ddf3-fefe7f15d41f",
        "colab": {
          "base_uri": "https://localhost:8080/",
          "height": 425
        }
      },
      "source": [
        "from keras.layers.normalization import BatchNormalization\n",
        "from keras.layers import Dropout\n",
        "\n",
        "top_words=50000\n",
        "embedding_vector_length = 40\n",
        "model = Sequential()\n",
        "model.add(Embedding(top_words+1, embedding_vector_length, input_length=max_review_length))\n",
        "model.add(LSTM(32,return_sequences=True))\n",
        "model.add(BatchNormalization())\n",
        "model.add(Dropout(0.5))\n",
        "model.add(LSTM(16))\n",
        "model.add(BatchNormalization())\n",
        "model.add(Dropout(0.5))\n",
        "model.add(Dense(1, activation='sigmoid'))\n",
        "model.compile(loss='binary_crossentropy', optimizer='adam', metrics=['accuracy'])\n",
        "print(model.summary())"
      ],
      "execution_count": 17,
      "outputs": [
        {
          "output_type": "stream",
          "text": [
            "_________________________________________________________________\n",
            "Layer (type)                 Output Shape              Param #   \n",
            "=================================================================\n",
            "embedding_2 (Embedding)      (None, 600, 40)           2000040   \n",
            "_________________________________________________________________\n",
            "lstm_3 (LSTM)                (None, 600, 32)           9344      \n",
            "_________________________________________________________________\n",
            "batch_normalization_3 (Batch (None, 600, 32)           128       \n",
            "_________________________________________________________________\n",
            "dropout_3 (Dropout)          (None, 600, 32)           0         \n",
            "_________________________________________________________________\n",
            "lstm_4 (LSTM)                (None, 16)                3136      \n",
            "_________________________________________________________________\n",
            "batch_normalization_4 (Batch (None, 16)                64        \n",
            "_________________________________________________________________\n",
            "dropout_4 (Dropout)          (None, 16)                0         \n",
            "_________________________________________________________________\n",
            "dense_2 (Dense)              (None, 1)                 17        \n",
            "=================================================================\n",
            "Total params: 2,012,729\n",
            "Trainable params: 2,012,633\n",
            "Non-trainable params: 96\n",
            "_________________________________________________________________\n",
            "None\n"
          ],
          "name": "stdout"
        }
      ]
    },
    {
      "cell_type": "code",
      "metadata": {
        "id": "pnoKQUJQPH-R",
        "colab_type": "code",
        "outputId": "2f761a35-74ed-46da-8c79-3a3137bb6595",
        "colab": {
          "base_uri": "https://localhost:8080/",
          "height": 425
        }
      },
      "source": [
        "history = model.fit(X_train_pad, Y_train, nb_epoch=10, batch_size=64,validation_data=(X_test_pad,Y_test))\n",
        "# Final evaluation of the model on test data\n",
        "scores = model.evaluate(X_test_pad, Y_test, verbose=0)\n",
        "print(\"Accuracy: %.2f%%\" % (scores[1]*100))"
      ],
      "execution_count": 18,
      "outputs": [
        {
          "output_type": "stream",
          "text": [
            "/usr/local/lib/python3.6/dist-packages/ipykernel_launcher.py:1: UserWarning: The `nb_epoch` argument in `fit` has been renamed `epochs`.\n",
            "  \"\"\"Entry point for launching an IPython kernel.\n"
          ],
          "name": "stderr"
        },
        {
          "output_type": "stream",
          "text": [
            "Train on 73478 samples, validate on 31491 samples\n",
            "Epoch 1/10\n",
            "73478/73478 [==============================] - 2141s 29ms/step - loss: 0.3526 - acc: 0.8557 - val_loss: 0.7892 - val_acc: 0.6834\n",
            "Epoch 2/10\n",
            "73478/73478 [==============================] - 2099s 29ms/step - loss: 0.1701 - acc: 0.9409 - val_loss: 0.3275 - val_acc: 0.8801\n",
            "Epoch 3/10\n",
            "73478/73478 [==============================] - 2102s 29ms/step - loss: 0.1174 - acc: 0.9611 - val_loss: 0.3645 - val_acc: 0.8765\n",
            "Epoch 4/10\n",
            "73478/73478 [==============================] - 2069s 28ms/step - loss: 0.0851 - acc: 0.9730 - val_loss: 0.1859 - val_acc: 0.9531\n",
            "Epoch 5/10\n",
            "73478/73478 [==============================] - 2108s 29ms/step - loss: 0.0667 - acc: 0.9790 - val_loss: 0.1786 - val_acc: 0.9519\n",
            "Epoch 6/10\n",
            "73478/73478 [==============================] - 2103s 29ms/step - loss: 0.0499 - acc: 0.9853 - val_loss: 0.2525 - val_acc: 0.9372\n",
            "Epoch 7/10\n",
            "73478/73478 [==============================] - 2079s 28ms/step - loss: 0.0457 - acc: 0.9861 - val_loss: 0.3108 - val_acc: 0.9231\n",
            "Epoch 8/10\n",
            "73478/73478 [==============================] - 2112s 29ms/step - loss: 0.0355 - acc: 0.9899 - val_loss: 0.1681 - val_acc: 0.9634\n",
            "Epoch 9/10\n",
            "73478/73478 [==============================] - 2107s 29ms/step - loss: 0.0314 - acc: 0.9908 - val_loss: 0.2354 - val_acc: 0.9516\n",
            "Epoch 10/10\n",
            "73478/73478 [==============================] - 2106s 29ms/step - loss: 0.0264 - acc: 0.9930 - val_loss: 0.2184 - val_acc: 0.9597\n",
            "Accuracy: 95.97%\n"
          ],
          "name": "stdout"
        }
      ]
    },
    {
      "cell_type": "code",
      "metadata": {
        "id": "e8Ca8ypKufU8",
        "colab_type": "code",
        "outputId": "db2c5837-efca-469d-9716-4693c441522d",
        "colab": {
          "base_uri": "https://localhost:8080/",
          "height": 283
        }
      },
      "source": [
        "# Create count of the number of epochs\n",
        "import matplotlib.pyplot as plt\n",
        "training_loss = history.history['loss']\n",
        "test_loss = history.history['val_loss']\n",
        "\n",
        "epoch_count = range(1, len(training_loss) + 1)\n",
        "\n",
        "# Visualize loss history\n",
        "plt.plot(epoch_count, training_loss, 'b-')\n",
        "plt.plot(epoch_count, test_loss, 'r--')\n",
        "plt.legend(['Training Loss', 'Test Loss'])\n",
        "plt.xlabel('Epoch')\n",
        "plt.ylabel('Loss')\n",
        "plt.show();"
      ],
      "execution_count": 21,
      "outputs": [
        {
          "output_type": "display_data",
          "data": {
            "image/png": "[encoded data removed]",
            "text/plain": [
              "<Figure size 432x288 with 1 Axes>"
            ]
          },
          "metadata": {
            "tags": []
          }
        }
      ]
    },
    {
      "cell_type": "markdown",
      "metadata": {
        "id": "jxvXmu2nL3ad",
        "colab_type": "text"
      },
      "source": [
        "disb:  In the given model we use embeeding layer and  2 layer with 64 LSTM and 32 LSTM, dense layer with sigmoid activation "
      ]
    },
    {
      "cell_type": "markdown",
      "metadata": {
        "id": "T7BMpgd_JV1m",
        "colab_type": "text"
      },
      "source": [
        "obs: model with two layer of LSTM, one with LSTM 64 and another is 32 give the Accuray 95.97%"
      ]
    }
  ]
}